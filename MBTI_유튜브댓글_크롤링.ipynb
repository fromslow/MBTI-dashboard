{
  "nbformat": 4,
  "nbformat_minor": 0,
  "metadata": {
    "colab": {
      "name": "MBTI_유튜브댓글_크롤링",
      "provenance": [],
      "collapsed_sections": []
    },
    "kernelspec": {
      "name": "python3",
      "display_name": "Python 3"
    }
  },
  "cells": [
    {
      "cell_type": "code",
      "metadata": {
        "id": "emL4tCe-Vooo"
      },
      "source": [
        "#-*- coding: utf-8 -*- "
      ],
      "execution_count": null,
      "outputs": []
    },
    {
      "cell_type": "code",
      "metadata": {
        "colab": {
          "base_uri": "https://localhost:8080/"
        },
        "id": "efoRCV3jnvUe",
        "outputId": "64b6ac54-b763-4b3a-8ef5-a9183cd35635"
      },
      "source": [
        "import os, sys \n",
        "from google.colab import drive \n",
        "drive.mount('/content/mnt') \n",
        "nb_path = '/content/notebooks' \n",
        "os.symlink('/content/mnt/My Drive/Colab Notebooks', nb_path) \n",
        "sys.path.insert(0, nb_path)"
      ],
      "execution_count": null,
      "outputs": [
        {
          "output_type": "stream",
          "text": [
            "Mounted at /content/mnt\n"
          ],
          "name": "stdout"
        }
      ]
    },
    {
      "cell_type": "code",
      "metadata": {
        "colab": {
          "base_uri": "https://localhost:8080/"
        },
        "id": "qX91YlEqn9Qj",
        "outputId": "81c04f31-bd9e-4071-9821-049c61424658"
      },
      "source": [
        "import os\n",
        "\n",
        "import pandas as pd\n",
        "import numpy as np\n",
        "\n",
        "from pathlib import Path\n",
        "from datetime import datetime\n",
        "\n",
        "BASE_DIR = Path(r\"/content/mnt/Shared drives/MBTI/\")\n",
        "data_list = os.listdir(BASE_DIR / \"full_data\")\n",
        "print(data_list[:5])"
      ],
      "execution_count": null,
      "outputs": [
        {
          "output_type": "stream",
          "text": [
            "['MBTI_add.csv', 'ISTJ.csv', 'ESTJ.csv', 'ISFJ.csv', 'ESFJ.csv']\n"
          ],
          "name": "stdout"
        }
      ]
    },
    {
      "cell_type": "code",
      "metadata": {
        "colab": {
          "base_uri": "https://localhost:8080/"
        },
        "id": "KWWFI8O9Elhl",
        "outputId": "9e18e448-f859-4b80-c0f8-56952bc45be7"
      },
      "source": [
        "!apt-get update\n",
        "!apt install chromium-chromedriver\n",
        "!cp /usr/lib/chromium-browser/chromedriver /usr/bin\n",
        "!pip install selenium"
      ],
      "execution_count": null,
      "outputs": [
        {
          "output_type": "stream",
          "text": [
            "\r0% [Working]\r            \rIgn:1 https://developer.download.nvidia.com/compute/cuda/repos/ubuntu1804/x86_64  InRelease\n",
            "\r0% [Waiting for headers] [Waiting for headers] [Waiting for headers] [Waiting f\r                                                                               \rGet:2 https://cloud.r-project.org/bin/linux/ubuntu bionic-cran40/ InRelease [3,626 B]\n",
            "\r0% [Waiting for headers] [Waiting for headers] [2 InRelease 0 B/3,626 B 0%] [Wa\r0% [Waiting for headers] [Waiting for headers] [Waiting for headers] [Waiting f\r0% [2 InRelease gpgv 3,626 B] [Waiting for headers] [Waiting for headers] [Wait\r                                                                               \rGet:3 http://ppa.launchpad.net/c2d4u.team/c2d4u4.0+/ubuntu bionic InRelease [15.9 kB]\n",
            "\r0% [2 InRelease gpgv 3,626 B] [Waiting for headers] [Waiting for headers] [3 In\r                                                                               \rGet:4 http://security.ubuntu.com/ubuntu bionic-security InRelease [88.7 kB]\n",
            "\r0% [2 InRelease gpgv 3,626 B] [Waiting for headers] [4 InRelease 14.2 kB/88.7 k\r                                                                               \rIgn:5 https://developer.download.nvidia.com/compute/machine-learning/repos/ubuntu1804/x86_64  InRelease\n",
            "\r0% [2 InRelease gpgv 3,626 B] [Waiting for headers] [4 InRelease 14.2 kB/88.7 k\r                                                                               \rGet:6 https://developer.download.nvidia.com/compute/cuda/repos/ubuntu1804/x86_64  Release [697 B]\n",
            "\r0% [2 InRelease gpgv 3,626 B] [Waiting for headers] [4 InRelease 14.2 kB/88.7 k\r0% [2 InRelease gpgv 3,626 B] [Waiting for headers] [4 InRelease 14.2 kB/88.7 k\r                                                                               \rHit:7 http://archive.ubuntu.com/ubuntu bionic InRelease\n",
            "\r0% [2 InRelease gpgv 3,626 B] [Waiting for headers] [4 InRelease 14.2 kB/88.7 k\r                                                                               \rGet:8 https://developer.download.nvidia.com/compute/machine-learning/repos/ubuntu1804/x86_64  Release [564 B]\n",
            "\r0% [2 InRelease gpgv 3,626 B] [Waiting for headers] [4 InRelease 14.2 kB/88.7 k\r0% [2 InRelease gpgv 3,626 B] [Waiting for headers] [4 InRelease 14.2 kB/88.7 k\r                                                                               \rGet:9 https://developer.download.nvidia.com/compute/cuda/repos/ubuntu1804/x86_64  Release.gpg [836 B]\n",
            "Get:10 https://developer.download.nvidia.com/compute/machine-learning/repos/ubuntu1804/x86_64  Release.gpg [833 B]\n",
            "Get:11 http://archive.ubuntu.com/ubuntu bionic-updates InRelease [88.7 kB]\n",
            "Hit:12 http://ppa.launchpad.net/cran/libgit2/ubuntu bionic InRelease\n",
            "Get:13 http://archive.ubuntu.com/ubuntu bionic-backports InRelease [74.6 kB]\n",
            "Get:14 http://ppa.launchpad.net/deadsnakes/ppa/ubuntu bionic InRelease [15.9 kB]\n",
            "Get:15 http://ppa.launchpad.net/graphics-drivers/ppa/ubuntu bionic InRelease [21.3 kB]\n",
            "Ign:16 https://developer.download.nvidia.com/compute/cuda/repos/ubuntu1804/x86_64  Packages\n",
            "Get:16 https://developer.download.nvidia.com/compute/cuda/repos/ubuntu1804/x86_64  Packages [577 kB]\n",
            "Get:17 https://developer.download.nvidia.com/compute/machine-learning/repos/ubuntu1804/x86_64  Packages [73.8 kB]\n",
            "Get:18 http://ppa.launchpad.net/c2d4u.team/c2d4u4.0+/ubuntu bionic/main Sources [1,744 kB]\n",
            "Get:19 http://security.ubuntu.com/ubuntu bionic-security/multiverse amd64 Packages [24.5 kB]\n",
            "Get:20 http://security.ubuntu.com/ubuntu bionic-security/main amd64 Packages [1,963 kB]\n",
            "Get:21 http://archive.ubuntu.com/ubuntu bionic-updates/multiverse amd64 Packages [31.4 kB]\n",
            "Get:22 http://archive.ubuntu.com/ubuntu bionic-updates/restricted amd64 Packages [353 kB]\n",
            "Get:23 http://security.ubuntu.com/ubuntu bionic-security/restricted amd64 Packages [324 kB]\n",
            "Get:24 http://security.ubuntu.com/ubuntu bionic-security/universe amd64 Packages [1,396 kB]\n",
            "Get:25 http://ppa.launchpad.net/c2d4u.team/c2d4u4.0+/ubuntu bionic/main amd64 Packages [892 kB]\n",
            "Get:26 http://archive.ubuntu.com/ubuntu bionic-updates/universe amd64 Packages [2,163 kB]\n",
            "Get:27 http://archive.ubuntu.com/ubuntu bionic-updates/main amd64 Packages [2,394 kB]\n",
            "Get:28 http://ppa.launchpad.net/deadsnakes/ppa/ubuntu bionic/main amd64 Packages [39.5 kB]\n",
            "Get:29 http://ppa.launchpad.net/graphics-drivers/ppa/ubuntu bionic/main amd64 Packages [49.4 kB]\n",
            "Fetched 12.3 MB in 3s (3,723 kB/s)\n",
            "Reading package lists... Done\n",
            "Reading package lists... Done\n",
            "Building dependency tree       \n",
            "Reading state information... Done\n",
            "The following additional packages will be installed:\n",
            "  chromium-browser chromium-browser-l10n chromium-codecs-ffmpeg-extra\n",
            "Suggested packages:\n",
            "  webaccounts-chromium-extension unity-chromium-extension adobe-flashplugin\n",
            "The following NEW packages will be installed:\n",
            "  chromium-browser chromium-browser-l10n chromium-chromedriver\n",
            "  chromium-codecs-ffmpeg-extra\n",
            "0 upgraded, 4 newly installed, 0 to remove and 60 not upgraded.\n",
            "Need to get 81.0 MB of archives.\n",
            "After this operation, 273 MB of additional disk space will be used.\n",
            "Get:1 http://archive.ubuntu.com/ubuntu bionic-updates/universe amd64 chromium-codecs-ffmpeg-extra amd64 87.0.4280.66-0ubuntu0.18.04.1 [1,122 kB]\n",
            "Get:2 http://archive.ubuntu.com/ubuntu bionic-updates/universe amd64 chromium-browser amd64 87.0.4280.66-0ubuntu0.18.04.1 [71.7 MB]\n",
            "Get:3 http://archive.ubuntu.com/ubuntu bionic-updates/universe amd64 chromium-browser-l10n all 87.0.4280.66-0ubuntu0.18.04.1 [3,716 kB]\n",
            "Get:4 http://archive.ubuntu.com/ubuntu bionic-updates/universe amd64 chromium-chromedriver amd64 87.0.4280.66-0ubuntu0.18.04.1 [4,488 kB]\n",
            "Fetched 81.0 MB in 3s (24.3 MB/s)\n",
            "Selecting previously unselected package chromium-codecs-ffmpeg-extra.\n",
            "(Reading database ... 160975 files and directories currently installed.)\n",
            "Preparing to unpack .../chromium-codecs-ffmpeg-extra_87.0.4280.66-0ubuntu0.18.04.1_amd64.deb ...\n",
            "Unpacking chromium-codecs-ffmpeg-extra (87.0.4280.66-0ubuntu0.18.04.1) ...\n",
            "Selecting previously unselected package chromium-browser.\n",
            "Preparing to unpack .../chromium-browser_87.0.4280.66-0ubuntu0.18.04.1_amd64.deb ...\n",
            "Unpacking chromium-browser (87.0.4280.66-0ubuntu0.18.04.1) ...\n",
            "Selecting previously unselected package chromium-browser-l10n.\n",
            "Preparing to unpack .../chromium-browser-l10n_87.0.4280.66-0ubuntu0.18.04.1_all.deb ...\n",
            "Unpacking chromium-browser-l10n (87.0.4280.66-0ubuntu0.18.04.1) ...\n",
            "Selecting previously unselected package chromium-chromedriver.\n",
            "Preparing to unpack .../chromium-chromedriver_87.0.4280.66-0ubuntu0.18.04.1_amd64.deb ...\n",
            "Unpacking chromium-chromedriver (87.0.4280.66-0ubuntu0.18.04.1) ...\n",
            "Setting up chromium-codecs-ffmpeg-extra (87.0.4280.66-0ubuntu0.18.04.1) ...\n",
            "Setting up chromium-browser (87.0.4280.66-0ubuntu0.18.04.1) ...\n",
            "update-alternatives: using /usr/bin/chromium-browser to provide /usr/bin/x-www-browser (x-www-browser) in auto mode\n",
            "update-alternatives: using /usr/bin/chromium-browser to provide /usr/bin/gnome-www-browser (gnome-www-browser) in auto mode\n",
            "Setting up chromium-chromedriver (87.0.4280.66-0ubuntu0.18.04.1) ...\n",
            "Setting up chromium-browser-l10n (87.0.4280.66-0ubuntu0.18.04.1) ...\n",
            "Processing triggers for hicolor-icon-theme (0.17-2) ...\n",
            "Processing triggers for mime-support (3.60ubuntu1) ...\n",
            "Processing triggers for man-db (2.8.3-2ubuntu0.1) ...\n",
            "cp: '/usr/lib/chromium-browser/chromedriver' and '/usr/bin/chromedriver' are the same file\n",
            "Collecting selenium\n",
            "\u001b[?25l  Downloading https://files.pythonhosted.org/packages/80/d6/4294f0b4bce4de0abf13e17190289f9d0613b0a44e5dd6a7f5ca98459853/selenium-3.141.0-py2.py3-none-any.whl (904kB)\n",
            "\u001b[K     |████████████████████████████████| 911kB 4.3MB/s \n",
            "\u001b[?25hRequirement already satisfied: urllib3 in /usr/local/lib/python3.7/dist-packages (from selenium) (1.24.3)\n",
            "Installing collected packages: selenium\n",
            "Successfully installed selenium-3.141.0\n"
          ],
          "name": "stdout"
        }
      ]
    },
    {
      "cell_type": "code",
      "metadata": {
        "id": "78gWF-BTGvz_"
      },
      "source": [
        "from selenium import webdriver\n",
        "options = webdriver.ChromeOptions()\n",
        "options.add_argument('--headless')\n",
        "options.add_argument('--no-sandbox')\n",
        "options.add_argument('--disable-dev-shm-usage')"
      ],
      "execution_count": null,
      "outputs": []
    },
    {
      "cell_type": "code",
      "metadata": {
        "id": "J81_dKPyEbXU"
      },
      "source": [
        "from bs4 import BeautifulSoup\n",
        "import time\n",
        "import pandas as pd\n",
        "import requests\n",
        "import re"
      ],
      "execution_count": null,
      "outputs": []
    },
    {
      "cell_type": "code",
      "metadata": {
        "id": "Li02SsNYuG93"
      },
      "source": [
        "mbti_list = pd.read_csv(BASE_DIR / \"full_data\"/\"MBTI_add.csv\")"
      ],
      "execution_count": null,
      "outputs": []
    },
    {
      "cell_type": "code",
      "metadata": {
        "colab": {
          "base_uri": "https://localhost:8080/",
          "height": 589
        },
        "id": "W4spzIfduTax",
        "outputId": "99647bcb-eebd-4156-bfd4-56ae5a697a84"
      },
      "source": [
        "mbti_list"
      ],
      "execution_count": null,
      "outputs": [
        {
          "output_type": "execute_result",
          "data": {
            "text/html": [
              "<div>\n",
              "<style scoped>\n",
              "    .dataframe tbody tr th:only-of-type {\n",
              "        vertical-align: middle;\n",
              "    }\n",
              "\n",
              "    .dataframe tbody tr th {\n",
              "        vertical-align: top;\n",
              "    }\n",
              "\n",
              "    .dataframe thead th {\n",
              "        text-align: right;\n",
              "    }\n",
              "</style>\n",
              "<table border=\"1\" class=\"dataframe\">\n",
              "  <thead>\n",
              "    <tr style=\"text-align: right;\">\n",
              "      <th></th>\n",
              "      <th>type</th>\n",
              "      <th>name</th>\n",
              "      <th>link</th>\n",
              "    </tr>\n",
              "  </thead>\n",
              "  <tbody>\n",
              "    <tr>\n",
              "      <th>0</th>\n",
              "      <td>ISTJ</td>\n",
              "      <td>[MBTI 성격유형 4편] ISTJ - 논리주의 철저한 조사관</td>\n",
              "      <td>https://www.youtube.com/watch?v=5oKctIz6vhE</td>\n",
              "    </tr>\n",
              "    <tr>\n",
              "      <th>1</th>\n",
              "      <td>ESTJ</td>\n",
              "      <td>[MBTI 성격유형 5편] ESTJ - 실용주의 엄격한 관리자</td>\n",
              "      <td>https://www.youtube.com/watch?v=-8UcVl7cl8o</td>\n",
              "    </tr>\n",
              "    <tr>\n",
              "      <th>2</th>\n",
              "      <td>ISFJ</td>\n",
              "      <td>[MBTI 성격유형 6편] ISFJ - 배려킹 충실한 서포터</td>\n",
              "      <td>https://www.youtube.com/watch?v=3f5MFs-hyuw</td>\n",
              "    </tr>\n",
              "    <tr>\n",
              "      <th>3</th>\n",
              "      <td>ESFJ</td>\n",
              "      <td>[MBTI 성격유형 7편] ESFJ - 해피 바이러스 정통파 인싸</td>\n",
              "      <td>https://www.youtube.com/watch?v=G5NyGyJLAdo</td>\n",
              "    </tr>\n",
              "    <tr>\n",
              "      <th>4</th>\n",
              "      <td>ISTP</td>\n",
              "      <td>[MBTI 성격유형 8편] ISTP - 고독한 특전사 에이스</td>\n",
              "      <td>https://www.youtube.com/watch?v=iQH1HzIw5a8</td>\n",
              "    </tr>\n",
              "    <tr>\n",
              "      <th>...</th>\n",
              "      <td>...</td>\n",
              "      <td>...</td>\n",
              "      <td>...</td>\n",
              "    </tr>\n",
              "    <tr>\n",
              "      <th>142</th>\n",
              "      <td>ESTP</td>\n",
              "      <td>ESTP 엣팁 짤, 댓글 모음</td>\n",
              "      <td>https://www.youtube.com/watch?v=SZkfO7IBbU0</td>\n",
              "    </tr>\n",
              "    <tr>\n",
              "      <th>143</th>\n",
              "      <td>ENTP</td>\n",
              "      <td>ENTP 엔팁 짤, 댓글 모음 2</td>\n",
              "      <td>https://www.youtube.com/watch?v=rPo1a3NCFsE</td>\n",
              "    </tr>\n",
              "    <tr>\n",
              "      <th>144</th>\n",
              "      <td>ENFJ</td>\n",
              "      <td>ENFJ 엔프제 짤, 댓글 모음</td>\n",
              "      <td>https://www.youtube.com/watch?v=JbunSul0qL0</td>\n",
              "    </tr>\n",
              "    <tr>\n",
              "      <th>145</th>\n",
              "      <td>INTP</td>\n",
              "      <td>INTP 인팁 짤, 댓글 모음 2</td>\n",
              "      <td>https://www.youtube.com/watch?v=aXL_X8EvZiQ</td>\n",
              "    </tr>\n",
              "    <tr>\n",
              "      <th>146</th>\n",
              "      <td>ISFP</td>\n",
              "      <td>ISFP 잇프피 짤, 댓글 모음 2</td>\n",
              "      <td>https://www.youtube.com/watch?v=zqAmXBNPlBA</td>\n",
              "    </tr>\n",
              "  </tbody>\n",
              "</table>\n",
              "<p>147 rows × 3 columns</p>\n",
              "</div>"
            ],
            "text/plain": [
              "     type  ...                                         link\n",
              "0    ISTJ  ...  https://www.youtube.com/watch?v=5oKctIz6vhE\n",
              "1    ESTJ  ...  https://www.youtube.com/watch?v=-8UcVl7cl8o\n",
              "2    ISFJ  ...  https://www.youtube.com/watch?v=3f5MFs-hyuw\n",
              "3    ESFJ  ...  https://www.youtube.com/watch?v=G5NyGyJLAdo\n",
              "4    ISTP  ...  https://www.youtube.com/watch?v=iQH1HzIw5a8\n",
              "..    ...  ...                                          ...\n",
              "142  ESTP  ...  https://www.youtube.com/watch?v=SZkfO7IBbU0\n",
              "143  ENTP  ...  https://www.youtube.com/watch?v=rPo1a3NCFsE\n",
              "144  ENFJ  ...  https://www.youtube.com/watch?v=JbunSul0qL0\n",
              "145  INTP  ...  https://www.youtube.com/watch?v=aXL_X8EvZiQ\n",
              "146  ISFP  ...  https://www.youtube.com/watch?v=zqAmXBNPlBA\n",
              "\n",
              "[147 rows x 3 columns]"
            ]
          },
          "metadata": {
            "tags": []
          },
          "execution_count": 7
        }
      ]
    },
    {
      "cell_type": "code",
      "metadata": {
        "id": "uanPkrVwFAKf"
      },
      "source": [
        "def crawl_youtube_page_html_sources(urls):\n",
        "    html_sources = []\n",
        "\n",
        "    for i in range(len(url)):\n",
        "        driver = webdriver.Chrome(\"chromedriver\",options=options)\n",
        "        driver.get(urls[i])\n",
        "\n",
        "        last_page_height = driver.execute_script(\"return document.documentElement.scrollHeight\")\n",
        "\n",
        "        while True:\n",
        "            driver.execute_script(\"window.scrollTo(0, document.documentElement.scrollHeight);\")\n",
        "            time.sleep(3.0)\n",
        "            new_page_height = driver.execute_script(\"return document.documentElement.scrollHeight\")\n",
        "\n",
        "            if new_page_height == last_page_height:\n",
        "                break\n",
        "            last_page_height = new_page_height\n",
        "\n",
        "        elements = driver.find_elements_by_css_selector(\"#more-replies\")\n",
        "        for element in elements :\n",
        "          driver.execute_script(\"arguments[0].click();\", element)\n",
        "\n",
        "        html_source = driver.page_source\n",
        "        html_sources.append(html_source)\n",
        "        print(\"OK\")\n",
        "\n",
        "        driver.quit()\n",
        "    return html_sources"
      ],
      "execution_count": null,
      "outputs": []
    },
    {
      "cell_type": "code",
      "metadata": {
        "id": "U4er6lvlFCWY"
      },
      "source": [
        "def get_user_IDs_comments_likes(html_sources):\n",
        "    my_dataframes = []\n",
        "    for html in html_sources:\n",
        "        \n",
        "        soup = BeautifulSoup(html, 'lxml')\n",
        "        youtube_user_IDs = soup.select('div#header-author > a > span')\n",
        "        youtube_comments = soup.select('yt-formatted-string#content-text')\n",
        "        youtube_likes = soup.select('span#vote-count-middle')\n",
        "        \n",
        "        str_youtube_userIDs = []\n",
        "        str_youtube_comments = []\n",
        "        str_youtube_likes = []\n",
        "\n",
        "        for i in range(len(youtube_user_IDs)):\n",
        "            str_tmp = str(youtube_user_IDs[i].text)\n",
        "            str_tmp = str_tmp.replace('\\n', '')\n",
        "            str_tmp = str_tmp.replace('\\t', '')\n",
        "            str_tmp = str_tmp.replace('                ','')\n",
        "            str_tmp = str_tmp.replace('          ','')\n",
        "            str_youtube_userIDs.append(str_tmp)\n",
        "\n",
        "            str_tmp = str(youtube_comments[i].text) \n",
        "            str_tmp = str_tmp.replace('\\n', '')\n",
        "            str_tmp = str_tmp.replace('\\t', '')\n",
        "            str_tmp = str_tmp.replace('               ', '')\n",
        "            str_youtube_comments.append(str_tmp)\n",
        "\n",
        "            str_tmp = str(youtube_likes[i].text) \n",
        "            str_tmp = str_tmp.replace('\\n', '')\n",
        "            str_tmp = str_tmp.replace('\\t', '')\n",
        "            str_tmp = str_tmp.replace('               ', '')\n",
        "            str_youtube_likes.append(str_tmp)\n",
        "            \n",
        "        pd_data = {\"ID\":str_youtube_userIDs, \"Comment\":str_youtube_comments, \"Likes\":str_youtube_likes}\n",
        "\n",
        "        youtube_pd = pd.DataFrame(pd_data)\n",
        "\n",
        "        my_dataframes.append(youtube_pd)\n",
        "        \n",
        "    return my_dataframes"
      ],
      "execution_count": null,
      "outputs": []
    },
    {
      "cell_type": "code",
      "metadata": {
        "id": "zr1T3XlfjZTI"
      },
      "source": [
        "def merge_and_save():\n",
        "  my_dataframe = pd.DataFrame()\n",
        "  for i in range(len(url)):\n",
        "    my_dataframe = pd.concat([my_dataframe,my_dataframes[i]], ignore_index=True)\n",
        "  display(my_dataframe)\n",
        "  title = re.sub('[-=+,#/\\?:^$.@*\\\"※~&%ㆍ!』\\\\‘|\\(\\)\\[\\]\\<\\>`\\'…《\\》]', '', MBTI)\n",
        "  my_dataframe.to_csv(BASE_DIR/\"full_data\"/\"{}.csv\".format(title),index = False, encoding='utf-8-sig')"
      ],
      "execution_count": null,
      "outputs": []
    },
    {
      "cell_type": "code",
      "metadata": {
        "id": "FYB8eeGHZHsv"
      },
      "source": [
        "mbti = pd.read_csv(BASE_DIR/\"full_data\"/'MBTI_add.csv')\n",
        "\n",
        "types = mbti[\"type\"].unique()\n",
        "my_dataframe = pd.DataFrame()"
      ],
      "execution_count": null,
      "outputs": []
    },
    {
      "cell_type": "code",
      "metadata": {
        "id": "TcOfEy8KPyxQ",
        "colab": {
          "base_uri": "https://localhost:8080/"
        },
        "outputId": "78995d40-c3a8-42f6-907c-9ac488bd3fa2"
      },
      "source": [
        "types"
      ],
      "execution_count": null,
      "outputs": [
        {
          "output_type": "execute_result",
          "data": {
            "text/plain": [
              "array(['ISTJ', 'ESTJ', 'ISFJ', 'ESFJ', 'ISTP', 'ESTP', 'ISFP', 'ESFP',\n",
              "       'INFJ', 'ENFJ', 'INFP', 'ENFP', 'INTJ', 'ENTJ', 'INTP', 'ENTP'],\n",
              "      dtype=object)"
            ]
          },
          "metadata": {
            "tags": []
          },
          "execution_count": 14
        }
      ]
    },
    {
      "cell_type": "code",
      "metadata": {
        "id": "3nWVODfCoEcX"
      },
      "source": [
        "from tqdm import tqdm"
      ],
      "execution_count": null,
      "outputs": []
    },
    {
      "cell_type": "code",
      "metadata": {
        "id": "gLDB3ewHfQXe",
        "colab": {
          "base_uri": "https://localhost:8080/",
          "height": 1000
        },
        "outputId": "37718d86-00cf-4f09-c873-e091f5369ccc"
      },
      "source": [
        "for MBTI in tqdm(types[:2]):\n",
        "  titles = mbti[mbti[\"type\"]==MBTI].name.to_list()\n",
        "  url = mbti[mbti[\"type\"]==MBTI].link.to_list()\n",
        "\n",
        "  html_sorces = crawl_youtube_page_html_sources(url)\n",
        "  my_dataframes = get_user_IDs_comments_likes(html_sorces)\n",
        "  merge_and_save()"
      ],
      "execution_count": null,
      "outputs": [
        {
          "output_type": "stream",
          "text": [
            "\n",
            "\n",
            "\n",
            "  0%|          | 0/2 [00:00<?, ?it/s]\u001b[A\u001b[A\u001b[A"
          ],
          "name": "stderr"
        },
        {
          "output_type": "stream",
          "text": [
            "OK\n",
            "OK\n",
            "OK\n",
            "OK\n",
            "OK\n",
            "OK\n",
            "OK\n"
          ],
          "name": "stdout"
        },
        {
          "output_type": "display_data",
          "data": {
            "text/html": [
              "<div>\n",
              "<style scoped>\n",
              "    .dataframe tbody tr th:only-of-type {\n",
              "        vertical-align: middle;\n",
              "    }\n",
              "\n",
              "    .dataframe tbody tr th {\n",
              "        vertical-align: top;\n",
              "    }\n",
              "\n",
              "    .dataframe thead th {\n",
              "        text-align: right;\n",
              "    }\n",
              "</style>\n",
              "<table border=\"1\" class=\"dataframe\">\n",
              "  <thead>\n",
              "    <tr style=\"text-align: right;\">\n",
              "      <th></th>\n",
              "      <th>ID</th>\n",
              "      <th>Comment</th>\n",
              "      <th>Likes</th>\n",
              "    </tr>\n",
              "  </thead>\n",
              "  <tbody>\n",
              "    <tr>\n",
              "      <th>0</th>\n",
              "      <td>박태호</td>\n",
              "      <td>ISTJ 손 들어라. 솔직히 인터넷 상에 덧글 달 때 네이버 맞춤법 검사기 돌려서 ...</td>\n",
              "      <td>874</td>\n",
              "    </tr>\n",
              "    <tr>\n",
              "      <th>1</th>\n",
              "      <td>ove L</td>\n",
              "      <td>손 그리고 남 맞춤법 틀린 거 보면 지적해주고 싶은데 또 그렇지는 못함</td>\n",
              "      <td>95</td>\n",
              "    </tr>\n",
              "    <tr>\n",
              "      <th>2</th>\n",
              "      <td>이서린</td>\n",
              "      <td>엇 싀빠빠 님 나 스토킹함?</td>\n",
              "      <td>20</td>\n",
              "    </tr>\n",
              "    <tr>\n",
              "      <th>3</th>\n",
              "      <td>국화빵</td>\n",
              "      <td>세상에 정말요...? (지나가던 INFP</td>\n",
              "      <td>8</td>\n",
              "    </tr>\n",
              "    <tr>\n",
              "      <th>4</th>\n",
              "      <td>청청</td>\n",
              "      <td>헐 틀린것같애두 그냥 넘어가는데!!엔프피♥</td>\n",
              "      <td>5</td>\n",
              "    </tr>\n",
              "    <tr>\n",
              "      <th>...</th>\n",
              "      <td>...</td>\n",
              "      <td>...</td>\n",
              "      <td>...</td>\n",
              "    </tr>\n",
              "    <tr>\n",
              "      <th>2201</th>\n",
              "      <td>yulee</td>\n",
              "      <td>노잼이라니 똑땅....ㅋㅋ 잇티제도 다뤄 주셔서 감사합니다.</td>\n",
              "      <td>1</td>\n",
              "    </tr>\n",
              "    <tr>\n",
              "      <th>2202</th>\n",
              "      <td>Yu Stella</td>\n",
              "      <td>회사라는 공간에서 게다가 상사의 감정을 왜 생각해줘야 할까요 ㅎㅎ저는 상사로서 있었...</td>\n",
              "      <td>3</td>\n",
              "    </tr>\n",
              "    <tr>\n",
              "      <th>2203</th>\n",
              "      <td>홍소소</td>\n",
              "      <td>가장 많다는데 다 어디있나.....</td>\n",
              "      <td>6</td>\n",
              "    </tr>\n",
              "    <tr>\n",
              "      <th>2204</th>\n",
              "      <td>얌얌</td>\n",
              "      <td>상사의 기분 신경 안쓰는 저.. 같이 일하는 팀원 한 분이 e로 시작하시는거 같은데...</td>\n",
              "      <td>0</td>\n",
              "    </tr>\n",
              "    <tr>\n",
              "      <th>2205</th>\n",
              "      <td>dustjr wh</td>\n",
              "      <td>그것도 자기가 경험한 분야에선 완벽한 편이지 예상치 못한 부분이나 종합적인 판단, ...</td>\n",
              "      <td>35</td>\n",
              "    </tr>\n",
              "  </tbody>\n",
              "</table>\n",
              "<p>2206 rows × 3 columns</p>\n",
              "</div>"
            ],
            "text/plain": [
              "               ID                                            Comment      Likes\n",
              "0             박태호  ISTJ 손 들어라. 솔직히 인터넷 상에 덧글 달 때 네이버 맞춤법 검사기 돌려서 ...      874  \n",
              "1           ove L            손 그리고 남 맞춤법 틀린 거 보면 지적해주고 싶은데 또 그렇지는 못함       95  \n",
              "2             이서린                                    엇 싀빠빠 님 나 스토킹함?       20  \n",
              "3             국화빵                             세상에 정말요...? (지나가던 INFP        8  \n",
              "4              청청                            헐 틀린것같애두 그냥 넘어가는데!!엔프피♥        5  \n",
              "...           ...                                                ...        ...\n",
              "2201        yulee                  노잼이라니 똑땅....ㅋㅋ 잇티제도 다뤄 주셔서 감사합니다.        1  \n",
              "2202    Yu Stella  회사라는 공간에서 게다가 상사의 감정을 왜 생각해줘야 할까요 ㅎㅎ저는 상사로서 있었...        3  \n",
              "2203          홍소소                                가장 많다는데 다 어디있나.....        6  \n",
              "2204           얌얌  상사의 기분 신경 안쓰는 저.. 같이 일하는 팀원 한 분이 e로 시작하시는거 같은데...        0  \n",
              "2205    dustjr wh  그것도 자기가 경험한 분야에선 완벽한 편이지 예상치 못한 부분이나 종합적인 판단, ...       35  \n",
              "\n",
              "[2206 rows x 3 columns]"
            ]
          },
          "metadata": {
            "tags": []
          }
        },
        {
          "output_type": "stream",
          "text": [
            "\n",
            "\n",
            "\n",
            " 50%|█████     | 1/2 [07:18<07:18, 438.12s/it]\u001b[A\u001b[A\u001b[A"
          ],
          "name": "stderr"
        },
        {
          "output_type": "stream",
          "text": [
            "OK\n",
            "OK\n",
            "OK\n",
            "OK\n",
            "OK\n",
            "OK\n",
            "OK\n"
          ],
          "name": "stdout"
        },
        {
          "output_type": "display_data",
          "data": {
            "text/html": [
              "<div>\n",
              "<style scoped>\n",
              "    .dataframe tbody tr th:only-of-type {\n",
              "        vertical-align: middle;\n",
              "    }\n",
              "\n",
              "    .dataframe tbody tr th {\n",
              "        vertical-align: top;\n",
              "    }\n",
              "\n",
              "    .dataframe thead th {\n",
              "        text-align: right;\n",
              "    }\n",
              "</style>\n",
              "<table border=\"1\" class=\"dataframe\">\n",
              "  <thead>\n",
              "    <tr style=\"text-align: right;\">\n",
              "      <th></th>\n",
              "      <th>ID</th>\n",
              "      <th>Comment</th>\n",
              "      <th>Likes</th>\n",
              "    </tr>\n",
              "  </thead>\n",
              "  <tbody>\n",
              "    <tr>\n",
              "      <th>0</th>\n",
              "      <td>bread coffee</td>\n",
              "      <td>Estj 댓글 웃긴게 본인들은 거의 없고 남이 궁금해서 들어온게 대부분이야 ㅋㅋㅋㅋㅋㅋㅋ</td>\n",
              "      <td>858</td>\n",
              "    </tr>\n",
              "    <tr>\n",
              "      <th>1</th>\n",
              "      <td>haslee</td>\n",
              "      <td>Infp밖에 없음ㅋㄱㅌㅋㄱㅌㄲㅋㅋㄱㅋㄱㅋ</td>\n",
              "      <td>133</td>\n",
              "    </tr>\n",
              "    <tr>\n",
              "      <th>2</th>\n",
              "      <td>주원</td>\n",
              "      <td>미친ㅋㅋㄱㅋㄲㅋㄱㅋㅋestj 내친그 반응이랑 개똑같네 ㅋㅋㄱㅋㄱㅋ</td>\n",
              "      <td>9</td>\n",
              "    </tr>\n",
              "    <tr>\n",
              "      <th>3</th>\n",
              "      <td>이윤지</td>\n",
              "      <td>ㅋㅋㅋㅋㅋㅋ</td>\n",
              "      <td>1</td>\n",
              "    </tr>\n",
              "    <tr>\n",
              "      <th>4</th>\n",
              "      <td>하양</td>\n",
              "      <td>오 미친 맞아요</td>\n",
              "      <td>2</td>\n",
              "    </tr>\n",
              "    <tr>\n",
              "      <th>...</th>\n",
              "      <td>...</td>\n",
              "      <td>...</td>\n",
              "      <td>...</td>\n",
              "    </tr>\n",
              "    <tr>\n",
              "      <th>1765</th>\n",
              "      <td>이거왜샀지</td>\n",
              "      <td>전 ISTJ인데 제가 봤을때 ESTJ가 ISTJ랑 다른게 확실히 에너지 넘치고 진짜...</td>\n",
              "      <td>1</td>\n",
              "    </tr>\n",
              "    <tr>\n",
              "      <th>1766</th>\n",
              "      <td>Jineun Hong</td>\n",
              "      <td>칼날같은 말투 고치려는 마음을 갖게 설득하기 어렵겠죠? 개인적으로 estj, ent...</td>\n",
              "      <td>13</td>\n",
              "    </tr>\n",
              "    <tr>\n",
              "      <th>1767</th>\n",
              "      <td>반지희12</td>\n",
              "      <td>남편이 ENTP라서 알고싶어왔다가 제껏도 보러왔어요. 저는 ESTJ인데 일하면서 대...</td>\n",
              "      <td>0</td>\n",
              "    </tr>\n",
              "    <tr>\n",
              "      <th>1768</th>\n",
              "      <td>푸루루루</td>\n",
              "      <td>남자친구는 게임도 잘하는 사람 아니면 스트레스 받아서 저랑 같이 게임 안 한대요ㅜㅜ</td>\n",
              "      <td>5</td>\n",
              "    </tr>\n",
              "    <tr>\n",
              "      <th>1769</th>\n",
              "      <td>Iove주야</td>\n",
              "      <td>Estj? 이 유형인애들 두명 봤는데 진짜 최악이었음. 아마 16가지 유형중에 가장...</td>\n",
              "      <td>1</td>\n",
              "    </tr>\n",
              "  </tbody>\n",
              "</table>\n",
              "<p>1770 rows × 3 columns</p>\n",
              "</div>"
            ],
            "text/plain": [
              "                  ID  ...      Likes\n",
              "0       bread coffee  ...      858  \n",
              "1             haslee  ...      133  \n",
              "2                 주원  ...        9  \n",
              "3                이윤지  ...        1  \n",
              "4                 하양  ...        2  \n",
              "...              ...  ...        ...\n",
              "1765           이거왜샀지  ...        1  \n",
              "1766     Jineun Hong  ...       13  \n",
              "1767           반지희12  ...        0  \n",
              "1768            푸루루루  ...        5  \n",
              "1769          Iove주야  ...        1  \n",
              "\n",
              "[1770 rows x 3 columns]"
            ]
          },
          "metadata": {
            "tags": []
          }
        },
        {
          "output_type": "stream",
          "text": [
            "\n",
            "\n",
            "\n",
            "100%|██████████| 2/2 [12:34<00:00, 377.15s/it]\n"
          ],
          "name": "stderr"
        }
      ]
    },
    {
      "cell_type": "code",
      "metadata": {
        "id": "RiF7XZQG6QLY"
      },
      "source": [
        ""
      ],
      "execution_count": null,
      "outputs": []
    },
    {
      "cell_type": "code",
      "metadata": {
        "id": "xfnNzArColbY",
        "colab": {
          "base_uri": "https://localhost:8080/",
          "height": 1000
        },
        "outputId": "b657a1f3-8f51-4bf5-cabf-f25775a1c610"
      },
      "source": [
        "for MBTI in tqdm(types[2:4]):\n",
        "  titles = mbti[mbti[\"type\"]==MBTI].name.to_list()\n",
        "  url = mbti[mbti[\"type\"]==MBTI].link.to_list()\n",
        "\n",
        "  html_sorces = crawl_youtube_page_html_sources(url)\n",
        "  my_dataframes = get_user_IDs_comments_likes(html_sorces)\n",
        "  merge_and_save()"
      ],
      "execution_count": null,
      "outputs": [
        {
          "output_type": "stream",
          "text": [
            "\n",
            "\n",
            "\n",
            "  0%|          | 0/2 [00:00<?, ?it/s]\u001b[A\u001b[A\u001b[A"
          ],
          "name": "stderr"
        },
        {
          "output_type": "stream",
          "text": [
            "OK\n",
            "OK\n",
            "OK\n",
            "OK\n",
            "OK\n",
            "OK\n",
            "OK\n",
            "OK\n"
          ],
          "name": "stdout"
        },
        {
          "output_type": "display_data",
          "data": {
            "text/html": [
              "<div>\n",
              "<style scoped>\n",
              "    .dataframe tbody tr th:only-of-type {\n",
              "        vertical-align: middle;\n",
              "    }\n",
              "\n",
              "    .dataframe tbody tr th {\n",
              "        vertical-align: top;\n",
              "    }\n",
              "\n",
              "    .dataframe thead th {\n",
              "        text-align: right;\n",
              "    }\n",
              "</style>\n",
              "<table border=\"1\" class=\"dataframe\">\n",
              "  <thead>\n",
              "    <tr style=\"text-align: right;\">\n",
              "      <th></th>\n",
              "      <th>ID</th>\n",
              "      <th>Comment</th>\n",
              "      <th>Likes</th>\n",
              "    </tr>\n",
              "  </thead>\n",
              "  <tbody>\n",
              "    <tr>\n",
              "      <th>0</th>\n",
              "      <td>ᄋᄉᄋ</td>\n",
              "      <td>isfj 댓글 잘 안단다고 하는데 댓글을 애초에 안다는게 아니고  하고싶은말 ㅈㄴ ...</td>\n",
              "      <td>1.4K</td>\n",
              "    </tr>\n",
              "    <tr>\n",
              "      <th>1</th>\n",
              "      <td>ji won</td>\n",
              "      <td>ㅋㅋㅋㅋㅋㅋㅋ아 인정해요 한 번 쓸 때 자세히 보기 뜰 때까지 쓰다가 결국엔 삭제해...</td>\n",
              "      <td>89</td>\n",
              "    </tr>\n",
              "    <tr>\n",
              "      <th>2</th>\n",
              "      <td>KOREA 漫画man</td>\n",
              "      <td>쌉인정 ㅋㅋㅋㅋㅋㅋ 나도 그런적 많음</td>\n",
              "      <td>11</td>\n",
              "    </tr>\n",
              "    <tr>\n",
              "      <th>3</th>\n",
              "      <td>LP M</td>\n",
              "      <td>ㅋㅋㅋㅋㅋㅋㅋㅋ제 얘긴줄...;; 진짜 구구절절충ㅋㅋㅋ</td>\n",
              "      <td>30</td>\n",
              "    </tr>\n",
              "    <tr>\n",
              "      <th>4</th>\n",
              "      <td>감쟈</td>\n",
              "      <td>구구절절충 ㅠㅠㅠ남들이 뭐라안하는데 해명먼저 하고있음ㅋㅋㅋㅋㅋ쓰다가 현타오면 삭제</td>\n",
              "      <td>62</td>\n",
              "    </tr>\n",
              "    <tr>\n",
              "      <th>...</th>\n",
              "      <td>...</td>\n",
              "      <td>...</td>\n",
              "      <td>...</td>\n",
              "    </tr>\n",
              "    <tr>\n",
              "      <th>5536</th>\n",
              "      <td>김아은</td>\n",
              "      <td>남자 ST NT들은 사이코패쓰남쟈들 90% 사이코패쓰모두 망혼 하지말아요</td>\n",
              "      <td>0</td>\n",
              "    </tr>\n",
              "    <tr>\n",
              "      <th>5537</th>\n",
              "      <td>태연_714</td>\n",
              "      <td>남친이 isfj인 estp인데 여친인데제 의견만 폭팔해서 제가 리드하면서데이트 다닙...</td>\n",
              "      <td>1</td>\n",
              "    </tr>\n",
              "    <tr>\n",
              "      <th>5538</th>\n",
              "      <td>무네무네</td>\n",
              "      <td>ENTP 아니세요?</td>\n",
              "      <td>1</td>\n",
              "    </tr>\n",
              "    <tr>\n",
              "      <th>5539</th>\n",
              "      <td>박예린</td>\n",
              "      <td>갠덕으로 너무 안맞는 유형.... ㅠㅠ 너무 착하지만 잘 해주다가 하루아침에 변하고...</td>\n",
              "      <td>0</td>\n",
              "    </tr>\n",
              "    <tr>\n",
              "      <th>5540</th>\n",
              "      <td>문대</td>\n",
              "      <td>Entp인데요 놀러왔는데 진짜 사람이 어쩜 저렇게 자신감이 없어요...??? 진짜 ...</td>\n",
              "      <td>2</td>\n",
              "    </tr>\n",
              "  </tbody>\n",
              "</table>\n",
              "<p>5541 rows × 3 columns</p>\n",
              "</div>"
            ],
            "text/plain": [
              "                 ID  ...       Likes\n",
              "0               ᄋᄉᄋ  ...      1.4K  \n",
              "1            ji won  ...        89  \n",
              "2       KOREA 漫画man  ...        11  \n",
              "3              LP M  ...        30  \n",
              "4                감쟈  ...        62  \n",
              "...             ...  ...         ...\n",
              "5536            김아은  ...         0  \n",
              "5537         태연_714  ...         1  \n",
              "5538           무네무네  ...         1  \n",
              "5539            박예린  ...         0  \n",
              "5540             문대  ...         2  \n",
              "\n",
              "[5541 rows x 3 columns]"
            ]
          },
          "metadata": {
            "tags": []
          }
        },
        {
          "output_type": "stream",
          "text": [
            "\n",
            "\n",
            "\n",
            " 50%|█████     | 1/2 [18:40<18:40, 1120.50s/it]\u001b[A\u001b[A\u001b[A"
          ],
          "name": "stderr"
        },
        {
          "output_type": "stream",
          "text": [
            "OK\n",
            "OK\n",
            "OK\n",
            "OK\n",
            "OK\n",
            "OK\n",
            "OK\n"
          ],
          "name": "stdout"
        },
        {
          "output_type": "display_data",
          "data": {
            "text/html": [
              "<div>\n",
              "<style scoped>\n",
              "    .dataframe tbody tr th:only-of-type {\n",
              "        vertical-align: middle;\n",
              "    }\n",
              "\n",
              "    .dataframe tbody tr th {\n",
              "        vertical-align: top;\n",
              "    }\n",
              "\n",
              "    .dataframe thead th {\n",
              "        text-align: right;\n",
              "    }\n",
              "</style>\n",
              "<table border=\"1\" class=\"dataframe\">\n",
              "  <thead>\n",
              "    <tr style=\"text-align: right;\">\n",
              "      <th></th>\n",
              "      <th>ID</th>\n",
              "      <th>Comment</th>\n",
              "      <th>Likes</th>\n",
              "    </tr>\n",
              "  </thead>\n",
              "  <tbody>\n",
              "    <tr>\n",
              "      <th>0</th>\n",
              "      <td>서지은</td>\n",
              "      <td>혼자 있는거 좋아해..ㄹㅇ 즐김 재밌음. 근데 친구가 놀자고하면 ㅇㅏ.. 지금 딱 ...</td>\n",
              "      <td>1K</td>\n",
              "    </tr>\n",
              "    <tr>\n",
              "      <th>1</th>\n",
              "      <td>대마왕쿠쿠</td>\n",
              "      <td>개공감하고 갑니다 ㅋㅋㅋㅋ</td>\n",
              "      <td>24</td>\n",
              "    </tr>\n",
              "    <tr>\n",
              "      <th>2</th>\n",
              "      <td>조연우</td>\n",
              "      <td>공감이요 ㅋㅋㅋㅋㅋ</td>\n",
              "      <td>4</td>\n",
              "    </tr>\n",
              "    <tr>\n",
              "      <th>3</th>\n",
              "      <td>플론</td>\n",
              "      <td>ㅇㅈㅇㅈㅇㅈㅇㅈㅇ!!!!!!!! 앜ㅋㅋ 똑같아</td>\n",
              "      <td>1</td>\n",
              "    </tr>\n",
              "    <tr>\n",
              "      <th>4</th>\n",
              "      <td>박민제</td>\n",
              "      <td>이거ㄹㅇ,,,</td>\n",
              "      <td>1</td>\n",
              "    </tr>\n",
              "    <tr>\n",
              "      <th>...</th>\n",
              "      <td>...</td>\n",
              "      <td>...</td>\n",
              "      <td>...</td>\n",
              "    </tr>\n",
              "    <tr>\n",
              "      <th>1605</th>\n",
              "      <td>Lee Sarah</td>\n",
              "      <td>친구분 esfj 에니어 2번인가보네요ㅎㅎ</td>\n",
              "      <td>0</td>\n",
              "    </tr>\n",
              "    <tr>\n",
              "      <th>1606</th>\n",
              "      <td>희원</td>\n",
              "      <td>조회수랑 댓글수랑 차이 많이나는거 봐 역시 enfj들은 댓글 잘안다는거 맞구나 내가...</td>\n",
              "      <td>0</td>\n",
              "    </tr>\n",
              "    <tr>\n",
              "      <th>1607</th>\n",
              "      <td>JENNIE YU</td>\n",
              "      <td>ENTP인데 남친이 ESFJ라 궁금해서 찾아와봤더니 정말 남친 그자체네요 캘린더 정...</td>\n",
              "      <td>0</td>\n",
              "    </tr>\n",
              "    <tr>\n",
              "      <th>1608</th>\n",
              "      <td>임국장 ASMR</td>\n",
              "      <td>미립 16가지 mbti영상에도 저에대한 댓글도 많이없었는데..그런거였군요!!</td>\n",
              "      <td>0</td>\n",
              "    </tr>\n",
              "    <tr>\n",
              "      <th>1609</th>\n",
              "      <td>eden gold</td>\n",
              "      <td>자공까페에 육아에대한 질문을 했는데 ..책임감부뷴에서 크게 와닿네요 ..육아를.하다...</td>\n",
              "      <td>0</td>\n",
              "    </tr>\n",
              "  </tbody>\n",
              "</table>\n",
              "<p>1610 rows × 3 columns</p>\n",
              "</div>"
            ],
            "text/plain": [
              "               ID                                            Comment     Likes\n",
              "0             서지은  혼자 있는거 좋아해..ㄹㅇ 즐김 재밌음. 근데 친구가 놀자고하면 ㅇㅏ.. 지금 딱 ...      1K  \n",
              "1           대마왕쿠쿠                                     개공감하고 갑니다 ㅋㅋㅋㅋ      24  \n",
              "2             조연우                                         공감이요 ㅋㅋㅋㅋㅋ       4  \n",
              "3              플론                          ㅇㅈㅇㅈㅇㅈㅇㅈㅇ!!!!!!!! 앜ㅋㅋ 똑같아       1  \n",
              "4             박민제                                            이거ㄹㅇ,,,       1  \n",
              "...           ...                                                ...       ...\n",
              "1605    Lee Sarah                             친구분 esfj 에니어 2번인가보네요ㅎㅎ       0  \n",
              "1606           희원  조회수랑 댓글수랑 차이 많이나는거 봐 역시 enfj들은 댓글 잘안다는거 맞구나 내가...       0  \n",
              "1607    JENNIE YU  ENTP인데 남친이 ESFJ라 궁금해서 찾아와봤더니 정말 남친 그자체네요 캘린더 정...       0  \n",
              "1608     임국장 ASMR         미립 16가지 mbti영상에도 저에대한 댓글도 많이없었는데..그런거였군요!!       0  \n",
              "1609    eden gold  자공까페에 육아에대한 질문을 했는데 ..책임감부뷴에서 크게 와닿네요 ..육아를.하다...       0  \n",
              "\n",
              "[1610 rows x 3 columns]"
            ]
          },
          "metadata": {
            "tags": []
          }
        },
        {
          "output_type": "stream",
          "text": [
            "\n",
            "\n",
            "\n",
            "100%|██████████| 2/2 [23:33<00:00, 706.87s/it]\n"
          ],
          "name": "stderr"
        }
      ]
    },
    {
      "cell_type": "code",
      "metadata": {
        "colab": {
          "base_uri": "https://localhost:8080/",
          "height": 1000
        },
        "id": "qX1hjkE49YAE",
        "outputId": "9a69f247-bbff-4661-f439-2798bd9308f1"
      },
      "source": [
        "for MBTI in tqdm(types[4:6]):\n",
        "  titles = mbti[mbti[\"type\"]==MBTI].name.to_list()\n",
        "  url = mbti[mbti[\"type\"]==MBTI].link.to_list()\n",
        "\n",
        "  html_sorces = crawl_youtube_page_html_sources(url)\n",
        "  my_dataframes = get_user_IDs_comments_likes(html_sorces)\n",
        "  merge_and_save()"
      ],
      "execution_count": null,
      "outputs": [
        {
          "output_type": "stream",
          "text": [
            "\n",
            "\n",
            "\n",
            "  0%|          | 0/2 [00:00<?, ?it/s]\u001b[A\u001b[A\u001b[A"
          ],
          "name": "stderr"
        },
        {
          "output_type": "stream",
          "text": [
            "OK\n",
            "OK\n",
            "OK\n",
            "OK\n",
            "OK\n",
            "OK\n",
            "OK\n",
            "OK\n"
          ],
          "name": "stdout"
        },
        {
          "output_type": "display_data",
          "data": {
            "text/html": [
              "<div>\n",
              "<style scoped>\n",
              "    .dataframe tbody tr th:only-of-type {\n",
              "        vertical-align: middle;\n",
              "    }\n",
              "\n",
              "    .dataframe tbody tr th {\n",
              "        vertical-align: top;\n",
              "    }\n",
              "\n",
              "    .dataframe thead th {\n",
              "        text-align: right;\n",
              "    }\n",
              "</style>\n",
              "<table border=\"1\" class=\"dataframe\">\n",
              "  <thead>\n",
              "    <tr style=\"text-align: right;\">\n",
              "      <th></th>\n",
              "      <th>ID</th>\n",
              "      <th>Comment</th>\n",
              "      <th>Likes</th>\n",
              "    </tr>\n",
              "  </thead>\n",
              "  <tbody>\n",
              "    <tr>\n",
              "      <th>0</th>\n",
              "      <td>JIN</td>\n",
              "      <td>카톡하다가 내가 전달하려는 정보가 조금이라도 헷갈리면 바로 검색해보고 말함</td>\n",
              "      <td>2.7K</td>\n",
              "    </tr>\n",
              "    <tr>\n",
              "      <th>1</th>\n",
              "      <td>16 19</td>\n",
              "      <td>JIN ㄹㅇ ㅋㅋㅋㅋㅋ 혹시 맞춤법이 틀리진 않았나 먼저 검색해봄</td>\n",
              "      <td>379</td>\n",
              "    </tr>\n",
              "    <tr>\n",
              "      <th>2</th>\n",
              "      <td>쥬노</td>\n",
              "      <td>와 완전 팩트 ㅇㅈ ㅋㅋㅋ</td>\n",
              "      <td>71</td>\n",
              "    </tr>\n",
              "    <tr>\n",
              "      <th>3</th>\n",
              "      <td>고양이풀</td>\n",
              "      <td>ㅋㅋㅋ그거 받고 뉴스에서 일어난 얘기 전해줄 때 해당 뉴스 링크 올려주거나 캡쳐해서...</td>\n",
              "      <td>143</td>\n",
              "    </tr>\n",
              "    <tr>\n",
              "      <th>4</th>\n",
              "      <td>스치면 인연,스며들면 스폰지밥</td>\n",
              "      <td>JIN 와 레알 난데이거</td>\n",
              "      <td>3</td>\n",
              "    </tr>\n",
              "    <tr>\n",
              "      <th>...</th>\n",
              "      <td>...</td>\n",
              "      <td>...</td>\n",
              "      <td>...</td>\n",
              "    </tr>\n",
              "    <tr>\n",
              "      <th>7852</th>\n",
              "      <td>현민ᄋ</td>\n",
              "      <td>내가 잇팁이긴한테 딱히 잇팁인게 맘에 들진않음 ㅋㅋ 동족혐오있음</td>\n",
              "      <td>0</td>\n",
              "    </tr>\n",
              "    <tr>\n",
              "      <th>7853</th>\n",
              "      <td>샤넬인간</td>\n",
              "      <td>근데 istp여자는 흔하지가 않데 원래 이 유형은 남자가 많은 유형이고 여자자체가 ...</td>\n",
              "      <td>2</td>\n",
              "    </tr>\n",
              "    <tr>\n",
              "      <th>7854</th>\n",
              "      <td>kokeku ka</td>\n",
              "      <td>mbti 저거 최신 현대 심리학에서는 거의 미신 취급받는건데 저걸 아직도 신봉하면서...</td>\n",
              "      <td>2</td>\n",
              "    </tr>\n",
              "    <tr>\n",
              "      <th>7855</th>\n",
              "      <td>현홍</td>\n",
              "      <td>어쩌라고 그럼 안보면 되는거지 왜 여기와서 이래...</td>\n",
              "      <td>1</td>\n",
              "    </tr>\n",
              "    <tr>\n",
              "      <th>7856</th>\n",
              "      <td>남지훈</td>\n",
              "      <td>Istp면 공부하면 잘한다는 댓글은 불편하긴하드라</td>\n",
              "      <td>0</td>\n",
              "    </tr>\n",
              "  </tbody>\n",
              "</table>\n",
              "<p>7857 rows × 3 columns</p>\n",
              "</div>"
            ],
            "text/plain": [
              "                      ID  ...       Likes\n",
              "0                    JIN  ...      2.7K  \n",
              "1                  16 19  ...       379  \n",
              "2                     쥬노  ...        71  \n",
              "3                   고양이풀  ...       143  \n",
              "4       스치면 인연,스며들면 스폰지밥  ...         3  \n",
              "...                  ...  ...         ...\n",
              "7852                 현민ᄋ  ...         0  \n",
              "7853                샤넬인간  ...         2  \n",
              "7854           kokeku ka  ...         2  \n",
              "7855                  현홍  ...         1  \n",
              "7856                 남지훈  ...         0  \n",
              "\n",
              "[7857 rows x 3 columns]"
            ]
          },
          "metadata": {
            "tags": []
          }
        },
        {
          "output_type": "stream",
          "text": [
            "\n",
            "\n",
            "\n",
            " 50%|█████     | 1/2 [26:17<26:17, 1577.69s/it]\u001b[A\u001b[A\u001b[A"
          ],
          "name": "stderr"
        },
        {
          "output_type": "stream",
          "text": [
            "OK\n",
            "OK\n",
            "OK\n",
            "OK\n",
            "OK\n",
            "OK\n",
            "OK\n",
            "OK\n"
          ],
          "name": "stdout"
        },
        {
          "output_type": "display_data",
          "data": {
            "text/html": [
              "<div>\n",
              "<style scoped>\n",
              "    .dataframe tbody tr th:only-of-type {\n",
              "        vertical-align: middle;\n",
              "    }\n",
              "\n",
              "    .dataframe tbody tr th {\n",
              "        vertical-align: top;\n",
              "    }\n",
              "\n",
              "    .dataframe thead th {\n",
              "        text-align: right;\n",
              "    }\n",
              "</style>\n",
              "<table border=\"1\" class=\"dataframe\">\n",
              "  <thead>\n",
              "    <tr style=\"text-align: right;\">\n",
              "      <th></th>\n",
              "      <th>ID</th>\n",
              "      <th>Comment</th>\n",
              "      <th>Likes</th>\n",
              "    </tr>\n",
              "  </thead>\n",
              "  <tbody>\n",
              "    <tr>\n",
              "      <th>0</th>\n",
              "      <td>돌돌돌</td>\n",
              "      <td>누가 ESTP 아니랄까봐 끝까지 보고 요약한 사람 한명도 없고 요약만 찾고있네</td>\n",
              "      <td>1.4K</td>\n",
              "    </tr>\n",
              "    <tr>\n",
              "      <th>1</th>\n",
              "      <td>매미</td>\n",
              "      <td>돌돌돌 개웃기넼ㅋㅋㅋㅋ요약찯고잇엇는데</td>\n",
              "      <td>51</td>\n",
              "    </tr>\n",
              "    <tr>\n",
              "      <th>2</th>\n",
              "      <td>젠젠</td>\n",
              "      <td>앜ㅋㅋㅋㅋㅋㅋㅋㅋ</td>\n",
              "      <td>1</td>\n",
              "    </tr>\n",
              "    <tr>\n",
              "      <th>3</th>\n",
              "      <td>아기거미</td>\n",
              "      <td>오 저도 estp라서 들어오자마자 요약 찾고 있었음</td>\n",
              "      <td>48</td>\n",
              "    </tr>\n",
              "    <tr>\n",
              "      <th>4</th>\n",
              "      <td>리요다</td>\n",
              "      <td>ㅁㅌㅋㅋㅋㅋㅋㅋㅋㅋㅋㅋㅋㅋㅋㅋㅋㅋㅋㅋㅋㅋㅋㅋㅋㅋㅋㅋㅋㅋㅋㅋㅋ</td>\n",
              "      <td>3</td>\n",
              "    </tr>\n",
              "    <tr>\n",
              "      <th>...</th>\n",
              "      <td>...</td>\n",
              "      <td>...</td>\n",
              "      <td>...</td>\n",
              "    </tr>\n",
              "    <tr>\n",
              "      <th>2530</th>\n",
              "      <td>게임용 계정</td>\n",
              "      <td>내 친구 엣팁이었는데 맨날 시비걸고 비꼬고 거짓말 치고 페드립하고 때리고..그랬음....</td>\n",
              "      <td>0</td>\n",
              "    </tr>\n",
              "    <tr>\n",
              "      <th>2531</th>\n",
              "      <td>문채윤</td>\n",
              "      <td>엣팁입니당 그건 mbti 문제가 아니라 그 분 인성과 생각에 문제가 있는 것 같네요...</td>\n",
              "      <td>2</td>\n",
              "    </tr>\n",
              "    <tr>\n",
              "      <th>2532</th>\n",
              "      <td>문채윤</td>\n",
              "      <td>손절하려는데 계속 잡는 걸 보니 그냥 계정님이좋아서 장난을 치는 것 같은데 스트레스...</td>\n",
              "      <td>2</td>\n",
              "    </tr>\n",
              "    <tr>\n",
              "      <th>2533</th>\n",
              "      <td>랄랄라</td>\n",
              "      <td>여러분 안녕하세요 신입 엣팁입니당엔팁이었는데 엣팁으로 바꼈어여</td>\n",
              "      <td>1</td>\n",
              "    </tr>\n",
              "    <tr>\n",
              "      <th>2534</th>\n",
              "      <td>#</td>\n",
              "      <td>환영합니다 엣팁 인생 살기 정말 쿨합니다</td>\n",
              "      <td>0</td>\n",
              "    </tr>\n",
              "  </tbody>\n",
              "</table>\n",
              "<p>2535 rows × 3 columns</p>\n",
              "</div>"
            ],
            "text/plain": [
              "            ID                                            Comment       Likes\n",
              "0          돌돌돌        누가 ESTP 아니랄까봐 끝까지 보고 요약한 사람 한명도 없고 요약만 찾고있네      1.4K  \n",
              "1           매미                               돌돌돌 개웃기넼ㅋㅋㅋㅋ요약찯고잇엇는데        51  \n",
              "2           젠젠                                          앜ㅋㅋㅋㅋㅋㅋㅋㅋ         1  \n",
              "3         아기거미                       오 저도 estp라서 들어오자마자 요약 찾고 있었음        48  \n",
              "4          리요다                  ㅁㅌㅋㅋㅋㅋㅋㅋㅋㅋㅋㅋㅋㅋㅋㅋㅋㅋㅋㅋㅋㅋㅋㅋㅋㅋㅋㅋㅋㅋㅋㅋㅋ         3  \n",
              "...        ...                                                ...         ...\n",
              "2530    게임용 계정  내 친구 엣팁이었는데 맨날 시비걸고 비꼬고 거짓말 치고 페드립하고 때리고..그랬음....         0  \n",
              "2531       문채윤  엣팁입니당 그건 mbti 문제가 아니라 그 분 인성과 생각에 문제가 있는 것 같네요...         2  \n",
              "2532       문채윤  손절하려는데 계속 잡는 걸 보니 그냥 계정님이좋아서 장난을 치는 것 같은데 스트레스...         2  \n",
              "2533       랄랄라                 여러분 안녕하세요 신입 엣팁입니당엔팁이었는데 엣팁으로 바꼈어여         1  \n",
              "2534         #                             환영합니다 엣팁 인생 살기 정말 쿨합니다         0  \n",
              "\n",
              "[2535 rows x 3 columns]"
            ]
          },
          "metadata": {
            "tags": []
          }
        },
        {
          "output_type": "stream",
          "text": [
            "\n",
            "\n",
            "\n",
            "100%|██████████| 2/2 [33:09<00:00, 994.60s/it] \n"
          ],
          "name": "stderr"
        }
      ]
    },
    {
      "cell_type": "code",
      "metadata": {
        "id": "zqX9zQIP6SSR"
      },
      "source": [
        "mbti[mbti[\"name\"]==\"INFP 인프피 짤, 댓글 모음 11\"]"
      ],
      "execution_count": null,
      "outputs": []
    },
    {
      "cell_type": "code",
      "metadata": {
        "colab": {
          "base_uri": "https://localhost:8080/"
        },
        "id": "CPmvL2kU6qfI",
        "outputId": "ef39c0be-bafc-49fc-ccdb-2f0502d4eb4c"
      },
      "source": [
        "a[a[\"name\"]==\"INFP 인프피 짤, 댓글 모음 11\"].name.to_list()"
      ],
      "execution_count": null,
      "outputs": [
        {
          "output_type": "execute_result",
          "data": {
            "text/plain": [
              "['INFP 인프피 짤, 댓글 모음 11']"
            ]
          },
          "metadata": {
            "tags": []
          },
          "execution_count": 18
        }
      ]
    },
    {
      "cell_type": "code",
      "metadata": {
        "colab": {
          "base_uri": "https://localhost:8080/"
        },
        "id": "bfvcKZJR6rl3",
        "outputId": "100ffaab-7efd-47dc-e8f5-ffa9ade3ae21"
      },
      "source": [
        "a[a[\"name\"]==\"INFP 인프피 짤, 댓글 모음 11\"].link.to_list()"
      ],
      "execution_count": null,
      "outputs": [
        {
          "output_type": "execute_result",
          "data": {
            "text/plain": [
              "['https://www.youtube.com/watch?v=XMrNkGK948I']"
            ]
          },
          "metadata": {
            "tags": []
          },
          "execution_count": 19
        }
      ]
    },
    {
      "cell_type": "code",
      "metadata": {
        "id": "r3KCjKc368Hi"
      },
      "source": [
        "MBTI = \"INFP_\""
      ],
      "execution_count": null,
      "outputs": []
    },
    {
      "cell_type": "code",
      "metadata": {
        "colab": {
          "base_uri": "https://localhost:8080/",
          "height": 424
        },
        "id": "vZ4unsNr9ZZd",
        "outputId": "6f943ed6-9580-47f7-8c2d-0b338a78fa72"
      },
      "source": [
        "titles = a[a[\"name\"]==\"INFP 인프피 짤, 댓글 모음 11\"].name.to_list()\n",
        "url = a[a[\"name\"]==\"INFP 인프피 짤, 댓글 모음 11\"].link.to_list()\n",
        "\n",
        "html_sorces = crawl_youtube_page_html_sources(url)\n",
        "my_dataframes = get_user_IDs_comments_likes(html_sorces)\n",
        "merge_and_save()"
      ],
      "execution_count": null,
      "outputs": [
        {
          "output_type": "stream",
          "text": [
            "OK\n"
          ],
          "name": "stdout"
        },
        {
          "output_type": "display_data",
          "data": {
            "text/html": [
              "<div>\n",
              "<style scoped>\n",
              "    .dataframe tbody tr th:only-of-type {\n",
              "        vertical-align: middle;\n",
              "    }\n",
              "\n",
              "    .dataframe tbody tr th {\n",
              "        vertical-align: top;\n",
              "    }\n",
              "\n",
              "    .dataframe thead th {\n",
              "        text-align: right;\n",
              "    }\n",
              "</style>\n",
              "<table border=\"1\" class=\"dataframe\">\n",
              "  <thead>\n",
              "    <tr style=\"text-align: right;\">\n",
              "      <th></th>\n",
              "      <th>ID</th>\n",
              "      <th>Comment</th>\n",
              "      <th>Likes</th>\n",
              "    </tr>\n",
              "  </thead>\n",
              "  <tbody>\n",
              "    <tr>\n",
              "      <th>0</th>\n",
              "      <td>김햇</td>\n",
              "      <td>해당 영상들은 각 유형에 대해 일반화시키려는 목적이 아닙니다.\\r'어떤 유형은 이 ...</td>\n",
              "      <td>326</td>\n",
              "    </tr>\n",
              "    <tr>\n",
              "      <th>1</th>\n",
              "      <td>렛타</td>\n",
              "      <td>하지만 boy..너무 들어맞아서 일반화 시키지 않아도 돼는걸</td>\n",
              "      <td>6</td>\n",
              "    </tr>\n",
              "    <tr>\n",
              "      <th>2</th>\n",
              "      <td>빵덕</td>\n",
              "      <td>노래 제목 너무너무 궁금해요 ㅜㅜㅜㅜㅜㅜㅜㅜ</td>\n",
              "      <td>0</td>\n",
              "    </tr>\n",
              "    <tr>\n",
              "      <th>3</th>\n",
              "      <td>김햇</td>\n",
              "      <td>@빵덕  설명란에 적어두었습니다 😊</td>\n",
              "      <td>3</td>\n",
              "    </tr>\n",
              "    <tr>\n",
              "      <th>4</th>\n",
              "      <td>라룰</td>\n",
              "      <td>5:16 에 블로그를 시작하라고 나오지만 요즘은 n번방 사건같은 사이버 폭력일이 많...</td>\n",
              "      <td>1</td>\n",
              "    </tr>\n",
              "    <tr>\n",
              "      <th>...</th>\n",
              "      <td>...</td>\n",
              "      <td>...</td>\n",
              "      <td>...</td>\n",
              "    </tr>\n",
              "    <tr>\n",
              "      <th>1566</th>\n",
              "      <td>수아</td>\n",
              "      <td>ㄴ네? 저 죽일거에요?ㅜㅜㅜㅜㅜㅜㅜㅜㅜㅜㅜㅜ</td>\n",
              "      <td>0</td>\n",
              "    </tr>\n",
              "    <tr>\n",
              "      <th>1567</th>\n",
              "      <td>호우영</td>\n",
              "      <td>나 왜 하트 줘?</td>\n",
              "      <td>0</td>\n",
              "    </tr>\n",
              "    <tr>\n",
              "      <th>1568</th>\n",
              "      <td>우힛</td>\n",
              "      <td>ㅋㅋㅋㅋㅋㅋㅋㅋㅋㅋㅋ</td>\n",
              "      <td>0</td>\n",
              "    </tr>\n",
              "    <tr>\n",
              "      <th>1569</th>\n",
              "      <td>이지호</td>\n",
              "      <td>너나 쥬거!!!</td>\n",
              "      <td>0</td>\n",
              "    </tr>\n",
              "    <tr>\n",
              "      <th>1570</th>\n",
              "      <td>호우영</td>\n",
              "      <td>@이지호  나 왜 죽여</td>\n",
              "      <td>0</td>\n",
              "    </tr>\n",
              "  </tbody>\n",
              "</table>\n",
              "<p>1571 rows × 3 columns</p>\n",
              "</div>"
            ],
            "text/plain": [
              "         ID                                            Comment      Likes\n",
              "0        김햇  해당 영상들은 각 유형에 대해 일반화시키려는 목적이 아닙니다.\\r'어떤 유형은 이 ...      326  \n",
              "1        렛타                  하지만 boy..너무 들어맞아서 일반화 시키지 않아도 돼는걸        6  \n",
              "2        빵덕                           노래 제목 너무너무 궁금해요 ㅜㅜㅜㅜㅜㅜㅜㅜ        0  \n",
              "3        김햇                                @빵덕  설명란에 적어두었습니다 😊        3  \n",
              "4        라룰  5:16 에 블로그를 시작하라고 나오지만 요즘은 n번방 사건같은 사이버 폭력일이 많...        1  \n",
              "...     ...                                                ...        ...\n",
              "1566     수아                           ㄴ네? 저 죽일거에요?ㅜㅜㅜㅜㅜㅜㅜㅜㅜㅜㅜㅜ        0  \n",
              "1567    호우영                                          나 왜 하트 줘?        0  \n",
              "1568     우힛                                        ㅋㅋㅋㅋㅋㅋㅋㅋㅋㅋㅋ        0  \n",
              "1569    이지호                                           너나 쥬거!!!        0  \n",
              "1570    호우영                                       @이지호  나 왜 죽여        0  \n",
              "\n",
              "[1571 rows x 3 columns]"
            ]
          },
          "metadata": {
            "tags": []
          }
        }
      ]
    },
    {
      "cell_type": "code",
      "metadata": {
        "id": "Llcjdg2_8sQH"
      },
      "source": [
        ""
      ],
      "execution_count": null,
      "outputs": []
    },
    {
      "cell_type": "code",
      "metadata": {
        "colab": {
          "base_uri": "https://localhost:8080/",
          "height": 1000
        },
        "id": "wdvL1oms9Zxa",
        "outputId": "4cf59a28-657e-45f1-ff5b-7391bbf9201c"
      },
      "source": [
        " for MBTI in tqdm(types[14:16]):\n",
        "  titles = mbti[mbti[\"type\"]==MBTI].name.to_list()\n",
        "  url = mbti[mbti[\"type\"]==MBTI].link.to_list()\n",
        "\n",
        "  html_sorces = crawl_youtube_page_html_sources(url)\n",
        "  my_dataframes = get_user_IDs_comments_likes(html_sorces)\n",
        "  merge_and_save()"
      ],
      "execution_count": null,
      "outputs": [
        {
          "output_type": "stream",
          "text": [
            "\n",
            "\n",
            "\n",
            "  0%|          | 0/2 [00:00<?, ?it/s]\u001b[A\u001b[A\u001b[A"
          ],
          "name": "stderr"
        },
        {
          "output_type": "stream",
          "text": [
            "OK\n",
            "OK\n",
            "OK\n",
            "OK\n",
            "OK\n",
            "OK\n",
            "OK\n",
            "OK\n",
            "OK\n",
            "OK\n",
            "OK\n",
            "OK\n",
            "OK\n"
          ],
          "name": "stdout"
        },
        {
          "output_type": "display_data",
          "data": {
            "text/html": [
              "<div>\n",
              "<style scoped>\n",
              "    .dataframe tbody tr th:only-of-type {\n",
              "        vertical-align: middle;\n",
              "    }\n",
              "\n",
              "    .dataframe tbody tr th {\n",
              "        vertical-align: top;\n",
              "    }\n",
              "\n",
              "    .dataframe thead th {\n",
              "        text-align: right;\n",
              "    }\n",
              "</style>\n",
              "<table border=\"1\" class=\"dataframe\">\n",
              "  <thead>\n",
              "    <tr style=\"text-align: right;\">\n",
              "      <th></th>\n",
              "      <th>ID</th>\n",
              "      <th>Comment</th>\n",
              "      <th>Likes</th>\n",
              "    </tr>\n",
              "  </thead>\n",
              "  <tbody>\n",
              "    <tr>\n",
              "      <th>0</th>\n",
              "      <td>j j</td>\n",
              "      <td>인팁 특 동영상 틀어놓고 댓글 정주행 하느라 동영상 내용은 잘 안들어옴</td>\n",
              "      <td>2.5K</td>\n",
              "    </tr>\n",
              "    <tr>\n",
              "      <th>1</th>\n",
              "      <td>공일리오</td>\n",
              "      <td>아니 세상에... 저 자신인줄 알았네요</td>\n",
              "      <td>195</td>\n",
              "    </tr>\n",
              "    <tr>\n",
              "      <th>2</th>\n",
              "      <td>민경훈</td>\n",
              "      <td>난줄ㅋㅋㅋㅋㅋ</td>\n",
              "      <td>34</td>\n",
              "    </tr>\n",
              "    <tr>\n",
              "      <th>3</th>\n",
              "      <td>sᴘᴀᴄᴇ ᴄᴏᴡʙᴏɪ</td>\n",
              "      <td>ㅋㅋㅋㅋㅋㅋㅋㅋㅋㅋㅋㅋㅋㅋㅋㅋㅋㅋㅋㅋㅋㅋㅋㅋㅋㅋㅋㅋㅋㅋㅋㅋㅋㅋㅋㅋㅋㅋㅋㅋ</td>\n",
              "      <td>11</td>\n",
              "    </tr>\n",
              "    <tr>\n",
              "      <th>4</th>\n",
              "      <td>다해</td>\n",
              "      <td>제가 지금 그러고 있네요</td>\n",
              "      <td>36</td>\n",
              "    </tr>\n",
              "    <tr>\n",
              "      <th>...</th>\n",
              "      <td>...</td>\n",
              "      <td>...</td>\n",
              "      <td>...</td>\n",
              "    </tr>\n",
              "    <tr>\n",
              "      <th>14635</th>\n",
              "      <td>꺄항항항항항항항항</td>\n",
              "      <td>나 인팁인데 감정적으로 힘들 때 걍 한숨 자고 일어나면 아무일 없던 것처럼 리셋됨그...</td>\n",
              "      <td>0</td>\n",
              "    </tr>\n",
              "    <tr>\n",
              "      <th>14636</th>\n",
              "      <td>river peaceful</td>\n",
              "      <td>ㄴㄴ 이건 케바케인듯. 감정을 버리진 않음 감정 소듕함 다만 그 감정 갖고 뭘 할건...</td>\n",
              "      <td>0</td>\n",
              "    </tr>\n",
              "    <tr>\n",
              "      <th>14637</th>\n",
              "      <td>About Time</td>\n",
              "      <td>그동안 인생을 살아오며 제일 강하게 공감했던부분0:13 0:49 0:56 1:42 ...</td>\n",
              "      <td>1</td>\n",
              "    </tr>\n",
              "    <tr>\n",
              "      <th>14638</th>\n",
              "      <td>배고픈맹수</td>\n",
              "      <td>몸을 움직여도 뛰기는 싫고 오히려 음악 들으면서 생각만 많아지는.. 음악에까지 속으...</td>\n",
              "      <td>0</td>\n",
              "    </tr>\n",
              "    <tr>\n",
              "      <th>14639</th>\n",
              "      <td>옥근영</td>\n",
              "      <td>솔직히 인팁은 망상이랑 현실감각이 없는 것도 맞지만 \"대부분\"은 이상형도 진짜 깐깐...</td>\n",
              "      <td>0</td>\n",
              "    </tr>\n",
              "  </tbody>\n",
              "</table>\n",
              "<p>14640 rows × 3 columns</p>\n",
              "</div>"
            ],
            "text/plain": [
              "                     ID  ...       Likes\n",
              "0                   j j  ...      2.5K  \n",
              "1                  공일리오  ...       195  \n",
              "2                   민경훈  ...        34  \n",
              "3          sᴘᴀᴄᴇ ᴄᴏᴡʙᴏɪ  ...        11  \n",
              "4                    다해  ...        36  \n",
              "...                 ...  ...         ...\n",
              "14635         꺄항항항항항항항항  ...         0  \n",
              "14636    river peaceful  ...         0  \n",
              "14637        About Time  ...         1  \n",
              "14638             배고픈맹수  ...         0  \n",
              "14639               옥근영  ...         0  \n",
              "\n",
              "[14640 rows x 3 columns]"
            ]
          },
          "metadata": {
            "tags": []
          }
        },
        {
          "output_type": "stream",
          "text": [
            "\n",
            "\n",
            "\n",
            " 50%|█████     | 1/2 [58:24<58:24, 3504.36s/it]\u001b[A\u001b[A\u001b[A"
          ],
          "name": "stderr"
        },
        {
          "output_type": "stream",
          "text": [
            "OK\n",
            "OK\n",
            "OK\n",
            "OK\n",
            "OK\n",
            "OK\n",
            "OK\n",
            "OK\n",
            "OK\n",
            "OK\n"
          ],
          "name": "stdout"
        },
        {
          "output_type": "display_data",
          "data": {
            "text/html": [
              "<div>\n",
              "<style scoped>\n",
              "    .dataframe tbody tr th:only-of-type {\n",
              "        vertical-align: middle;\n",
              "    }\n",
              "\n",
              "    .dataframe tbody tr th {\n",
              "        vertical-align: top;\n",
              "    }\n",
              "\n",
              "    .dataframe thead th {\n",
              "        text-align: right;\n",
              "    }\n",
              "</style>\n",
              "<table border=\"1\" class=\"dataframe\">\n",
              "  <thead>\n",
              "    <tr style=\"text-align: right;\">\n",
              "      <th></th>\n",
              "      <th>ID</th>\n",
              "      <th>Comment</th>\n",
              "      <th>Likes</th>\n",
              "    </tr>\n",
              "  </thead>\n",
              "  <tbody>\n",
              "    <tr>\n",
              "      <th>0</th>\n",
              "      <td>맥스</td>\n",
              "      <td>ㅋㅋㅋㅋ어디서 봤는데ENTP: 응응 그렇구나..사람마다 다 생각이 다르니까.. (물...</td>\n",
              "      <td>4.5K</td>\n",
              "    </tr>\n",
              "    <tr>\n",
              "      <th>1</th>\n",
              "      <td>외둘</td>\n",
              "      <td>맥스 ㅋㅋㅋㅋㅋㅋㅋㅋㅋㅋㅋㅋㅋㅋㅋㅋㅋ아</td>\n",
              "      <td>43</td>\n",
              "    </tr>\n",
              "    <tr>\n",
              "      <th>2</th>\n",
              "      <td>라이</td>\n",
              "      <td>이건 댓글 안남길 수가 없다 ㅋㅋㅋㅋㅋㅋㅋㅋㅋㅋㅋㅋ미친 공감 ㅋㅋㅋㅋㅋㅋㅋㅋㅋㅋㅋ</td>\n",
              "      <td>286</td>\n",
              "    </tr>\n",
              "    <tr>\n",
              "      <th>3</th>\n",
              "      <td>Martinez</td>\n",
              "      <td>하씹ㅋㅋㅋㅋㅋㅋㅋㅋ영상틀어놓고 댓글 둘러보다가 빵터짐ㅋㅋㅋㅋㅋ존웃</td>\n",
              "      <td>71</td>\n",
              "    </tr>\n",
              "    <tr>\n",
              "      <th>4</th>\n",
              "      <td>서예지</td>\n",
              "      <td>kalcls아미틴ㄴ 나자나</td>\n",
              "      <td>15</td>\n",
              "    </tr>\n",
              "    <tr>\n",
              "      <th>...</th>\n",
              "      <td>...</td>\n",
              "      <td>...</td>\n",
              "      <td>...</td>\n",
              "    </tr>\n",
              "    <tr>\n",
              "      <th>10926</th>\n",
              "      <td>사이다</td>\n",
              "      <td>응아니야</td>\n",
              "      <td>0</td>\n",
              "    </tr>\n",
              "    <tr>\n",
              "      <th>10927</th>\n",
              "      <td>그저 그런 사람%</td>\n",
              "      <td>@사이다 응...미안</td>\n",
              "      <td>0</td>\n",
              "    </tr>\n",
              "    <tr>\n",
              "      <th>10928</th>\n",
              "      <td>내가어쩌다방시혁이랑취향이같아서</td>\n",
              "      <td>나만 그런지 모르겠는데ㄹㅇ 답정너 개싫음</td>\n",
              "      <td>0</td>\n",
              "    </tr>\n",
              "    <tr>\n",
              "      <th>10929</th>\n",
              "      <td>{ENTP} Alice'</td>\n",
              "      <td>나도 결론적으로 한국이 싫어..그래서 유학 준비중임 ㅇㅇ</td>\n",
              "      <td>0</td>\n",
              "    </tr>\n",
              "    <tr>\n",
              "      <th>10930</th>\n",
              "      <td>신보미</td>\n",
              "      <td>나만그런가 중립씹오지는데 극단적페미댓글에가서는 논리사상 ㅈㄴ패고 성희롱 한남댓글가면...</td>\n",
              "      <td>1</td>\n",
              "    </tr>\n",
              "  </tbody>\n",
              "</table>\n",
              "<p>10931 rows × 3 columns</p>\n",
              "</div>"
            ],
            "text/plain": [
              "                       ID  ...       Likes\n",
              "0                      맥스  ...      4.5K  \n",
              "1                      외둘  ...        43  \n",
              "2                      라이  ...       286  \n",
              "3                Martinez  ...        71  \n",
              "4                     서예지  ...        15  \n",
              "...                   ...  ...         ...\n",
              "10926                 사이다  ...         0  \n",
              "10927           그저 그런 사람%  ...         0  \n",
              "10928    내가어쩌다방시혁이랑취향이같아서  ...         0  \n",
              "10929       {ENTP} Alice'  ...         0  \n",
              "10930                 신보미  ...         1  \n",
              "\n",
              "[10931 rows x 3 columns]"
            ]
          },
          "metadata": {
            "tags": []
          }
        },
        {
          "output_type": "stream",
          "text": [
            "\n",
            "\n",
            "\n",
            "100%|██████████| 2/2 [1:42:11<00:00, 3065.63s/it]\n"
          ],
          "name": "stderr"
        }
      ]
    },
    {
      "cell_type": "code",
      "metadata": {
        "id": "1nALwgnw9aEk"
      },
      "source": [
        "infp = pd.read_csv(BASE_DIR / \"full_data\"/\"INFP_.csv\")"
      ],
      "execution_count": null,
      "outputs": []
    },
    {
      "cell_type": "code",
      "metadata": {
        "colab": {
          "base_uri": "https://localhost:8080/",
          "height": 565
        },
        "id": "SxLvh2vD9DEP",
        "outputId": "80d43dc8-5e22-4195-c190-8d1c5d1cc12b"
      },
      "source": [
        "infp.iloc[7:22]"
      ],
      "execution_count": null,
      "outputs": [
        {
          "output_type": "execute_result",
          "data": {
            "text/html": [
              "<div>\n",
              "<style scoped>\n",
              "    .dataframe tbody tr th:only-of-type {\n",
              "        vertical-align: middle;\n",
              "    }\n",
              "\n",
              "    .dataframe tbody tr th {\n",
              "        vertical-align: top;\n",
              "    }\n",
              "\n",
              "    .dataframe thead th {\n",
              "        text-align: right;\n",
              "    }\n",
              "</style>\n",
              "<table border=\"1\" class=\"dataframe\">\n",
              "  <thead>\n",
              "    <tr style=\"text-align: right;\">\n",
              "      <th></th>\n",
              "      <th>ID</th>\n",
              "      <th>Comment</th>\n",
              "      <th>Likes</th>\n",
              "    </tr>\n",
              "  </thead>\n",
              "  <tbody>\n",
              "    <tr>\n",
              "      <th>7</th>\n",
              "      <td>놕놕</td>\n",
              "      <td>한 번씩 외향적인 인간처럼 나대다가 후회한 적 개많음</td>\n",
              "      <td>1.4K</td>\n",
              "    </tr>\n",
              "    <tr>\n",
              "      <th>8</th>\n",
              "      <td>시켜줘이동혁명예발닦개</td>\n",
              "      <td>와 이거 ㄹㅇㄹㅇㄹㅇㄹㅇ 내 흑역사 중 하나는 그것때문에 생김;;</td>\n",
              "      <td>136</td>\n",
              "    </tr>\n",
              "    <tr>\n",
              "      <th>9</th>\n",
              "      <td>새뫠애크 200</td>\n",
              "      <td>이거 진짜임ㅠㅠ소심한 성격 고치려고 막 개그같은것도 찾아보고 하면서 외향적인 사람처...</td>\n",
              "      <td>139</td>\n",
              "    </tr>\n",
              "    <tr>\n",
              "      <th>10</th>\n",
              "      <td>55DOBAL</td>\n",
              "      <td>@새뫠애크 200  과거의 일 생각하면서 이불킥 ㅋㅋㅋㅋㅋㅋㅋ</td>\n",
              "      <td>12</td>\n",
              "    </tr>\n",
              "    <tr>\n",
              "      <th>11</th>\n",
              "      <td>ᄋᄋ</td>\n",
              "      <td>내가 오늘 그럼...아 겁나 후회되고 쪽팔려</td>\n",
              "      <td>17</td>\n",
              "    </tr>\n",
              "    <tr>\n",
              "      <th>12</th>\n",
              "      <td>능덕</td>\n",
              "      <td>ㄴ..나는 외향적인데 낯가려서 평소에 내ㅗㅑㅇ형처럼하는 인프피인데...</td>\n",
              "      <td>6</td>\n",
              "    </tr>\n",
              "    <tr>\n",
              "      <th>13</th>\n",
              "      <td>뫌크튜</td>\n",
              "      <td>ㅋㅋㅋㅋㅋㅋㅋㅋㅋ</td>\n",
              "      <td>1</td>\n",
              "    </tr>\n",
              "    <tr>\n",
              "      <th>14</th>\n",
              "      <td>Me어켓</td>\n",
              "      <td>격공</td>\n",
              "      <td>1</td>\n",
              "    </tr>\n",
              "    <tr>\n",
              "      <th>15</th>\n",
              "      <td>널 보면 재채기가 나올 것 같아</td>\n",
              "      <td>장기자랑때 아재개그 같은고 해서 망했었던 기억이...</td>\n",
              "      <td>4</td>\n",
              "    </tr>\n",
              "    <tr>\n",
              "      <th>16</th>\n",
              "      <td>장훈님하고싶은거다해</td>\n",
              "      <td>내 인생 흑역사 TOP1이 인싸 무리 기어들어간거</td>\n",
              "      <td>9</td>\n",
              "    </tr>\n",
              "    <tr>\n",
              "      <th>17</th>\n",
              "      <td>INFP</td>\n",
              "      <td>ㄹㅇ... 그리고 지금 그게 내 인생 최대 흑역사다..</td>\n",
              "      <td>0</td>\n",
              "    </tr>\n",
              "    <tr>\n",
              "      <th>18</th>\n",
              "      <td>ᄏᄏ</td>\n",
              "      <td>INFP는.. 호구라고 생각할 수도 있는데 아직 폭발한 적이 별로 없어서지 늬들이 ...</td>\n",
              "      <td>781</td>\n",
              "    </tr>\n",
              "    <tr>\n",
              "      <th>19</th>\n",
              "      <td>정종현</td>\n",
              "      <td>ㄹㅇㅋㅋㅋㅋㅋ</td>\n",
              "      <td>9</td>\n",
              "    </tr>\n",
              "    <tr>\n",
              "      <th>20</th>\n",
              "      <td>츄우으</td>\n",
              "      <td>ㄹㅇ</td>\n",
              "      <td>4</td>\n",
              "    </tr>\n",
              "    <tr>\n",
              "      <th>21</th>\n",
              "      <td>수까모토 유타</td>\n",
              "      <td>관계를 없애기는 하는데 화내고 없애는게 아니라 감정적인 뒤탈 없이 마무리 하고 서서...</td>\n",
              "      <td>120</td>\n",
              "    </tr>\n",
              "  </tbody>\n",
              "</table>\n",
              "</div>"
            ],
            "text/plain": [
              "                     ID                                            Comment  \\\n",
              "7                    놕놕                      한 번씩 외향적인 인간처럼 나대다가 후회한 적 개많음   \n",
              "8           시켜줘이동혁명예발닦개               와 이거 ㄹㅇㄹㅇㄹㅇㄹㅇ 내 흑역사 중 하나는 그것때문에 생김;;   \n",
              "9              새뫠애크 200  이거 진짜임ㅠㅠ소심한 성격 고치려고 막 개그같은것도 찾아보고 하면서 외향적인 사람처...   \n",
              "10              55DOBAL                 @새뫠애크 200  과거의 일 생각하면서 이불킥 ㅋㅋㅋㅋㅋㅋㅋ   \n",
              "11                   ᄋᄋ                           내가 오늘 그럼...아 겁나 후회되고 쪽팔려   \n",
              "12                   능덕            ㄴ..나는 외향적인데 낯가려서 평소에 내ㅗㅑㅇ형처럼하는 인프피인데...   \n",
              "13                  뫌크튜                                          ㅋㅋㅋㅋㅋㅋㅋㅋㅋ   \n",
              "14                 Me어켓                                                 격공   \n",
              "15    널 보면 재채기가 나올 것 같아                      장기자랑때 아재개그 같은고 해서 망했었던 기억이...   \n",
              "16           장훈님하고싶은거다해                        내 인생 흑역사 TOP1이 인싸 무리 기어들어간거   \n",
              "17                 INFP                     ㄹㅇ... 그리고 지금 그게 내 인생 최대 흑역사다..   \n",
              "18                   ᄏᄏ  INFP는.. 호구라고 생각할 수도 있는데 아직 폭발한 적이 별로 없어서지 늬들이 ...   \n",
              "19                  정종현                                            ㄹㅇㅋㅋㅋㅋㅋ   \n",
              "20                  츄우으                                                 ㄹㅇ   \n",
              "21              수까모토 유타  관계를 없애기는 하는데 화내고 없애는게 아니라 감정적인 뒤탈 없이 마무리 하고 서서...   \n",
              "\n",
              "         Likes  \n",
              "7       1.4K    \n",
              "8        136    \n",
              "9        139    \n",
              "10        12    \n",
              "11        17    \n",
              "12         6    \n",
              "13         1    \n",
              "14         1    \n",
              "15         4    \n",
              "16         9    \n",
              "17         0    \n",
              "18       781    \n",
              "19         9    \n",
              "20         4    \n",
              "21       120    "
            ]
          },
          "metadata": {
            "tags": []
          },
          "execution_count": 39
        }
      ]
    },
    {
      "cell_type": "code",
      "metadata": {
        "colab": {
          "base_uri": "https://localhost:8080/"
        },
        "id": "Ug5C3NwY9Ngf",
        "outputId": "81e14747-e5d8-4894-9b3d-81e56c29971b"
      },
      "source": [
        "import pandas as pd\n",
        "print(\"pandas version: \", pd.__version__)\n",
        "pd.set_option('display.max_row', 500)\n",
        "pd.set_option('display.max_columns', 100)"
      ],
      "execution_count": null,
      "outputs": [
        {
          "output_type": "stream",
          "text": [
            "pandas version:  1.1.5\n"
          ],
          "name": "stdout"
        }
      ]
    },
    {
      "cell_type": "code",
      "metadata": {
        "id": "2-y3wSOs9uLr"
      },
      "source": [
        ""
      ],
      "execution_count": null,
      "outputs": []
    }
  ]
}